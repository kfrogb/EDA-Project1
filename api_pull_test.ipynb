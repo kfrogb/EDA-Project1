{
 "cells": [
  {
   "cell_type": "code",
   "execution_count": 11,
   "id": "83e5d8e9-132a-40cc-a753-81a89b570cec",
   "metadata": {},
   "outputs": [],
   "source": [
    "# Dependencies\n",
    "import pandas as pd\n",
    "import requests\n",
    "import time\n",
    "import json\n",
    "import urllib\n",
    "from urllib.request import urlopen\n",
    "from urllib.error import HTTPError\n",
    "from scipy.stats import linregress\n",
    "from matplotlib import pyplot as plt\n",
    "\n",
    "# Import the API key\n",
    "#from config import geoapify_key"
   ]
  },
  {
   "cell_type": "code",
   "execution_count": 12,
   "id": "cc59b378-2859-4ffd-98a4-e5fe26c0c9bc",
   "metadata": {},
   "outputs": [
    {
     "ename": "NameError",
     "evalue": "name 'Request' is not defined",
     "output_type": "error",
     "traceback": [
      "\u001b[0;31m---------------------------------------------------------------------------\u001b[0m",
      "\u001b[0;31mNameError\u001b[0m                                 Traceback (most recent call last)",
      "Cell \u001b[0;32mIn[12], line 1\u001b[0m\n\u001b[0;32m----> 1\u001b[0m request \u001b[38;5;241m=\u001b[39m \u001b[43mRequest\u001b[49m(\u001b[38;5;124m'\u001b[39m\u001b[38;5;124mhttps://private-8855f-olympicsapi.apiary-mock.com/scrape/olympics\u001b[39m\u001b[38;5;124m'\u001b[39m)\n\u001b[1;32m      3\u001b[0m response_body \u001b[38;5;241m=\u001b[39m urlopen(request)\u001b[38;5;241m.\u001b[39mread()\n\u001b[1;32m      4\u001b[0m \u001b[38;5;28mprint\u001b[39m(response_body)\n",
      "\u001b[0;31mNameError\u001b[0m: name 'Request' is not defined"
     ]
    }
   ],
   "source": [
    "request = Request('https://private-8855f-olympicsapi.apiary-mock.com/scrape/olympics')\n",
    "\n",
    "response_body = urlopen(request).read()\n",
    "print(response_body)"
   ]
  },
  {
   "cell_type": "code",
   "execution_count": null,
   "id": "dfb50579-e328-4783-9f8d-36bc68acff31",
   "metadata": {},
   "outputs": [],
   "source": []
  }
 ],
 "metadata": {
  "kernelspec": {
   "display_name": "Python 3 (ipykernel)",
   "language": "python",
   "name": "python3"
  },
  "language_info": {
   "codemirror_mode": {
    "name": "ipython",
    "version": 3
   },
   "file_extension": ".py",
   "mimetype": "text/x-python",
   "name": "python",
   "nbconvert_exporter": "python",
   "pygments_lexer": "ipython3",
   "version": "3.10.14"
  }
 },
 "nbformat": 4,
 "nbformat_minor": 5
}
